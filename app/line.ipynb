{
 "cells": [
  {
   "cell_type": "code",
   "execution_count": null,
   "id": "0a2c1011-1955-430a-9896-b8bdcd3c60d5",
   "metadata": {
    "tags": []
   },
   "outputs": [],
   "source": [
    "!pip install line-bot-sdk\n",
    "!pip install Flask\n",
    "!pip install python-dotenv"
   ]
  },
  {
   "cell_type": "code",
   "execution_count": null,
   "id": "cc21a09e-ff10-4e61-8151-1dee645d2429",
   "metadata": {
    "tags": []
   },
   "outputs": [],
   "source": [
    "import os\n",
    "from dotenv import load_dotenv\n",
    "\n",
    "%load_ext dotenv\n",
    "%dotenv\n",
    "\n",
    "#環境変数として読み出し\n",
    "LINE_ACCESS_TOKEN = os.getenv('LINE_ACCESS_TOKEN')\n",
    "LINE_USER_ID = os.getenv('LINE_USER_ID')"
   ]
  },
  {
   "cell_type": "code",
   "execution_count": null,
   "id": "3aed4be7-cbc5-498a-a056-8a9bebb7d389",
   "metadata": {
    "tags": []
   },
   "outputs": [],
   "source": [
    "LINE_ACCESS_TOKEN "
   ]
  },
  {
   "cell_type": "code",
   "execution_count": null,
   "id": "21f2778c-1d38-42ad-8a18-070c60ce3607",
   "metadata": {
    "tags": []
   },
   "outputs": [],
   "source": [
    "from flask import Flask, request, abort\n",
    "\n",
    "from linebot import (\n",
    "    LineBotApi, WebhookHandler\n",
    ")\n",
    "from linebot.exceptions import (\n",
    "    InvalidSignatureError\n",
    ")\n",
    "from linebot.models import (\n",
    "    MessageEvent, TextMessage, TextSendMessage,\n",
    ")\n",
    "\n",
    "app = Flask(__name__)\n",
    "\n",
    "line_bot_api = LineBotApi(LINE_ACCESS_TOKEN)\n",
    "handler = WebhookHandler(LINE_USER_ID)\n",
    "\n",
    "\n",
    "@app.route(\"/callback\", methods=['POST'])\n",
    "def callback():\n",
    "    # get X-Line-Signature header value\n",
    "    signature = request.headers['X-Line-Signature']\n",
    "\n",
    "    # get request body as text\n",
    "    body = request.get_data(as_text=True)\n",
    "    app.logger.info(\"Request body: \" + body)\n",
    "\n",
    "    # handle webhook body\n",
    "    try:\n",
    "        handler.handle(body, signature)\n",
    "    except InvalidSignatureError:\n",
    "        print(\"Invalid signature. Please check your channel access token/channel secret.\")\n",
    "        abort(400)\n",
    "\n",
    "    return 'OK'\n",
    "\n",
    "\n",
    "@handler.add(MessageEvent, message=TextMessage)\n",
    "def handle_message(event):\n",
    "    line_bot_api.reply_message(\n",
    "        event.reply_token,\n",
    "        TextSendMessage(text=event.message.text))\n",
    "\n",
    "\n",
    "if __name__ == \"__main__\":\n",
    "    app.run()"
   ]
  },
  {
   "cell_type": "code",
   "execution_count": null,
   "id": "b760346f-4a87-4535-af2c-f3c2206f93d8",
   "metadata": {
    "tags": []
   },
   "outputs": [],
   "source": [
    "import json\n",
    "import os\n",
    "from linebot import (LineBotApi, WebhookHandler)\n",
    "from linebot.models import (MessageEvent, TextMessage, TextSendMessage)\n",
    "from linebot.exceptions import (LineBotApiError, InvalidSignatureError)\n",
    "\n",
    "\n",
    "def lambda_handler():\n",
    "    \n",
    "\n",
    "    line_bot_api = LineBotApi(channel_access_token=LINE_ACCESS_TOKEN )\n",
    "    line_bot_api.push_message(\"LINE_USER_ID\" , TextSendMessage(text='Hello World!'))\n",
    "\n",
    "    return {\n",
    "        'statusCode': 200,\n",
    "        'body': json.dumps('ok', ensure_ascii=False)\n",
    "    }"
   ]
  },
  {
   "cell_type": "code",
   "execution_count": null,
   "id": "0cca712c-d208-4aaa-b6a0-1042925b5e02",
   "metadata": {
    "tags": []
   },
   "outputs": [],
   "source": [
    "lambda_handler()"
   ]
  },
  {
   "cell_type": "code",
   "execution_count": null,
   "id": "6b5a36ef-0d31-4e67-82e0-2d03cef2f639",
   "metadata": {
    "tags": []
   },
   "outputs": [],
   "source": [
    "!python app.py"
   ]
  },
  {
   "cell_type": "code",
   "execution_count": null,
   "id": "e5507e3f-74cf-4248-b0fb-9bc4b787a3c0",
   "metadata": {},
   "outputs": [],
   "source": []
  }
 ],
 "metadata": {
  "kernelspec": {
   "display_name": "Python 3 (ipykernel)",
   "language": "python",
   "name": "python3"
  },
  "language_info": {
   "codemirror_mode": {
    "name": "ipython",
    "version": 3
   },
   "file_extension": ".py",
   "mimetype": "text/x-python",
   "name": "python",
   "nbconvert_exporter": "python",
   "pygments_lexer": "ipython3",
   "version": "3.9.16"
  }
 },
 "nbformat": 4,
 "nbformat_minor": 5
}
