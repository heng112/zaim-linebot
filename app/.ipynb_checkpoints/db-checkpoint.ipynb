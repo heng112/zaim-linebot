{
 "cells": [
  {
   "cell_type": "code",
   "execution_count": null,
   "id": "8f483ac8-4e64-4b08-9051-2c54c598f63c",
   "metadata": {
    "tags": []
   },
   "outputs": [],
   "source": [
    "%pip install pandas"
   ]
  },
  {
   "cell_type": "code",
   "execution_count": 1,
   "id": "7bf91634-f170-4e46-a8b3-2466f718b756",
   "metadata": {
    "tags": []
   },
   "outputs": [],
   "source": [
    "%load_ext sql"
   ]
  },
  {
   "cell_type": "code",
   "execution_count": 2,
   "id": "c43825cc-397b-48f4-bd06-5866dcf2626d",
   "metadata": {
    "tags": []
   },
   "outputs": [],
   "source": [
    "%sql sqlite:///zaim.db"
   ]
  },
  {
   "cell_type": "code",
   "execution_count": 4,
   "id": "b56d0d78-46c8-4f04-b14b-808dadef2b46",
   "metadata": {
    "tags": []
   },
   "outputs": [
    {
     "data": {
      "text/plain": [
       "2839"
      ]
     },
     "execution_count": 4,
     "metadata": {},
     "output_type": "execute_result"
    }
   ],
   "source": [
    "import sqlite3\n",
    "import pandas as pd\n",
    "from sqlalchemy import create_engine\n",
    "\n",
    "\n",
    "# dbに保存する場合はcreate_engine('sqlite:///データベース名\n",
    "engine = create_engine('sqlite:///zaim.db',echo=False)\n",
    "df = pd.read_csv(\"../csv/zaim.csv\")\n",
    "\n",
    "df.to_sql('zaim', engine, if_exists='replace',index=False)\n",
    "\n"
   ]
  },
  {
   "cell_type": "code",
   "execution_count": 17,
   "id": "ed504024-1f71-4be1-b235-6f19357c542b",
   "metadata": {
    "tags": []
   },
   "outputs": [
    {
     "name": "stdout",
     "output_type": "stream",
     "text": [
      " * sqlite:///zaim.db\n",
      "Done.\n"
     ]
    },
    {
     "data": {
      "text/html": [
       "<table>\n",
       "    <thead>\n",
       "        <tr>\n",
       "            <th>品目</th>\n",
       "            <th>支出</th>\n",
       "            <th>お店</th>\n",
       "        </tr>\n",
       "    </thead>\n",
       "    <tbody>\n",
       "        <tr>\n",
       "            <td>肉だんご</td>\n",
       "            <td>160</td>\n",
       "            <td>業務スーパー　リカーキング府中本宿店</td>\n",
       "        </tr>\n",
       "        <tr>\n",
       "            <td>肉だんご</td>\n",
       "            <td>170</td>\n",
       "            <td>業務スーパー　リカーキング府中本宿店</td>\n",
       "        </tr>\n",
       "    </tbody>\n",
       "</table>"
      ],
      "text/plain": [
       "[('肉だんご', 160, '業務スーパー\\u3000リカーキング府中本宿店'),\n",
       " ('肉だんご', 170, '業務スーパー\\u3000リカーキング府中本宿店')]"
      ]
     },
     "execution_count": 17,
     "metadata": {},
     "output_type": "execute_result"
    }
   ],
   "source": [
    "%%sql\n",
    "\n",
    "select\n",
    "    DISTINCT\n",
    "    品目,\n",
    "    支出,\n",
    "    お店\n",
    "from\n",
    "    zaim\n",
    "WHERE\n",
    "    \"品目\" ==  \"肉だんご\"\n",
    "ORDER BY\n",
    "    支出 ASC;"
   ]
  },
  {
   "cell_type": "code",
   "execution_count": 35,
   "id": "9f1eb893-b0c6-4783-a3c7-de6c366c297a",
   "metadata": {
    "tags": []
   },
   "outputs": [],
   "source": [
    "import os\n",
    "import glob\n",
    "\n",
    "conn = sqlite3.connect('../db/zaim.db')\n",
    "\n",
    "def get_guery(shohin: str, filename: str)->str:\n",
    "    \"\"\"\n",
    "    SQLファイルに変数を挿入してクエリを作成する\n",
    "\n",
    "    Args:\n",
    "        num (int): 年齢\n",
    "        category (str): 好きな果物\n",
    "        filename (str): SQLファイルの名前\n",
    "\n",
    "    Returns:\n",
    "        str: SQLクエリ\n",
    "    \"\"\"\n",
    "    with open(os.path.join(\"./\", filename), \"r\") as f:\n",
    "        return f.read().format(shohin=shohin)\n",
    "\n"
   ]
  },
  {
   "cell_type": "code",
   "execution_count": 41,
   "id": "4263f9c6-d151-405e-adf9-109686c2d283",
   "metadata": {
    "tags": []
   },
   "outputs": [
    {
     "data": {
      "text/plain": [
       "[{'日付': '2022-05-08',\n",
       "  '商品名': '肉だんご',\n",
       "  '金額': 160,\n",
       "  'お店': '業務スーパー\\u3000リカーキング府中本宿店'},\n",
       " {'日付': '2023-03-14',\n",
       "  '商品名': '肉だんご',\n",
       "  '金額': 170,\n",
       "  'お店': '業務スーパー\\u3000リカーキング府中本宿店'},\n",
       " {'日付': '2023-02-07',\n",
       "  '商品名': '肉だんご',\n",
       "  '金額': 170,\n",
       "  'お店': '業務スーパー\\u3000リカーキング府中本宿店'}]"
      ]
     },
     "execution_count": 41,
     "metadata": {},
     "output_type": "execute_result"
    }
   ],
   "source": [
    "df = pd.read_sql(get_guery(shohin=\"肉だんご\", filename=\"shohin.sql\"), conn)\n",
    "# リストを作成する\n",
    "result = df.to_dict(orient='records')\n",
    "\n",
    "# 結果を表示する\n",
    "result"
   ]
  },
  {
   "cell_type": "code",
   "execution_count": 67,
   "id": "b1421b56-0585-4ade-a19f-6ae111e38bdf",
   "metadata": {
    "tags": []
   },
   "outputs": [
    {
     "data": {
      "text/plain": [
       "[]"
      ]
     },
     "execution_count": 67,
     "metadata": {},
     "output_type": "execute_result"
    }
   ],
   "source": [
    "from my_response import req_input\n",
    "\n",
    "req_input('肉だんご')"
   ]
  },
  {
   "cell_type": "code",
   "execution_count": null,
   "id": "0941d1a0-6a6b-4151-accc-abc095f9dc9f",
   "metadata": {},
   "outputs": [],
   "source": []
  }
 ],
 "metadata": {
  "kernelspec": {
   "display_name": "Python 3 (ipykernel)",
   "language": "python",
   "name": "python3"
  },
  "language_info": {
   "codemirror_mode": {
    "name": "ipython",
    "version": 3
   },
   "file_extension": ".py",
   "mimetype": "text/x-python",
   "name": "python",
   "nbconvert_exporter": "python",
   "pygments_lexer": "ipython3",
   "version": "3.9.16"
  }
 },
 "nbformat": 4,
 "nbformat_minor": 5
}
