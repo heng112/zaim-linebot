{
 "cells": [
  {
   "cell_type": "code",
   "execution_count": 15,
   "id": "d49b2974-c3a3-4881-8168-1aeee4107646",
   "metadata": {
    "tags": []
   },
   "outputs": [
    {
     "name": "stdout",
     "output_type": "stream",
     "text": [
      "Collecting pyzaim\n",
      "  Downloading pyzaim-1.0.11-py3-none-any.whl (8.4 kB)\n",
      "Collecting selenium<4.0.0,>=3.141.0\n",
      "  Downloading selenium-3.141.0-py2.py3-none-any.whl (904 kB)\n",
      "\u001b[2K     \u001b[90m━━━━━━━━━━━━━━━━━━━━━━━━━━━━━━━━━━━━━━━\u001b[0m \u001b[32m904.6/904.6 kB\u001b[0m \u001b[31m4.5 MB/s\u001b[0m eta \u001b[36m0:00:00\u001b[0ma \u001b[36m0:00:01\u001b[0m\n",
      "\u001b[?25hCollecting tqdm<5.0.0,>=4.43.0\n",
      "  Downloading tqdm-4.65.0-py3-none-any.whl (77 kB)\n",
      "\u001b[2K     \u001b[90m━━━━━━━━━━━━━━━━━━━━━━━━━━━━━━━━━━━━━━━━\u001b[0m \u001b[32m77.1/77.1 kB\u001b[0m \u001b[31m3.9 MB/s\u001b[0m eta \u001b[36m0:00:00\u001b[0m\n",
      "\u001b[?25hCollecting requests-oauthlib<2.0.0,>=1.3.0\n",
      "  Downloading requests_oauthlib-1.3.1-py2.py3-none-any.whl (23 kB)\n",
      "Collecting oauthlib>=3.0.0\n",
      "  Downloading oauthlib-3.2.2-py3-none-any.whl (151 kB)\n",
      "\u001b[2K     \u001b[90m━━━━━━━━━━━━━━━━━━━━━━━━━━━━━━━━━━━━━━━\u001b[0m \u001b[32m151.7/151.7 kB\u001b[0m \u001b[31m4.4 MB/s\u001b[0m eta \u001b[36m0:00:00\u001b[0m\n",
      "\u001b[?25hRequirement already satisfied: requests>=2.0.0 in /usr/local/lib/python3.9/site-packages (from requests-oauthlib<2.0.0,>=1.3.0->pyzaim) (2.28.2)\n",
      "Requirement already satisfied: urllib3 in /usr/local/lib/python3.9/site-packages (from selenium<4.0.0,>=3.141.0->pyzaim) (1.26.15)\n",
      "Requirement already satisfied: certifi>=2017.4.17 in /usr/local/lib/python3.9/site-packages (from requests>=2.0.0->requests-oauthlib<2.0.0,>=1.3.0->pyzaim) (2022.12.7)\n",
      "Requirement already satisfied: idna<4,>=2.5 in /usr/local/lib/python3.9/site-packages (from requests>=2.0.0->requests-oauthlib<2.0.0,>=1.3.0->pyzaim) (3.4)\n",
      "Requirement already satisfied: charset-normalizer<4,>=2 in /usr/local/lib/python3.9/site-packages (from requests>=2.0.0->requests-oauthlib<2.0.0,>=1.3.0->pyzaim) (3.1.0)\n",
      "Installing collected packages: tqdm, selenium, oauthlib, requests-oauthlib, pyzaim\n",
      "Successfully installed oauthlib-3.2.2 pyzaim-1.0.11 requests-oauthlib-1.3.1 selenium-3.141.0 tqdm-4.65.0\n",
      "\u001b[33mWARNING: Running pip as the 'root' user can result in broken permissions and conflicting behaviour with the system package manager. It is recommended to use a virtual environment instead: https://pip.pypa.io/warnings/venv\u001b[0m\u001b[33m\n",
      "\u001b[0mRequirement already satisfied: python-dotenv in /usr/local/lib/python3.9/site-packages (1.0.0)\n",
      "\u001b[33mWARNING: Running pip as the 'root' user can result in broken permissions and conflicting behaviour with the system package manager. It is recommended to use a virtual environment instead: https://pip.pypa.io/warnings/venv\u001b[0m\u001b[33m\n",
      "\u001b[0m"
     ]
    }
   ],
   "source": [
    "!pip install pyzaim\n",
    "!pip install python-dotenv"
   ]
  },
  {
   "cell_type": "code",
   "execution_count": 11,
   "id": "f1ce3d30-051e-433d-ad0a-87f16dec5e38",
   "metadata": {
    "tags": []
   },
   "outputs": [],
   "source": [
    "import os\n",
    "from dotenv import load_dotenv\n",
    "\n",
    "%load_ext dotenv\n",
    "\n",
    "#環境変数として読み出し\n",
    "CONSUMER_KEY = os.getenv('CONSUMER_KEY')\n",
    "CONSUMER_SECRET = os.getenv('CONSUMER_SECRET')\n",
    "ACCESS_TOKEN = os.getenv('ACCESS_TOKEN')\n",
    "ACCESS_SECRET = os.getenv('ACCESS_SECRET')"
   ]
  },
  {
   "cell_type": "code",
   "execution_count": 23,
   "id": "2e894ba8-1242-434f-aafc-08a33e326804",
   "metadata": {
    "tags": []
   },
   "outputs": [],
   "source": [
    "from pyzaim import ZaimAPI\n",
    "\n",
    "def getZaimData():\n",
    "    \"\"\"Zaimのデータを取得する\n",
    "    \"\"\"\n",
    "\n",
    "    consumer_key = CONSUMER_KEY\n",
    "    consumer_secret = CONSUMER_SECRET\n",
    "    access_token = ACCESS_TOKEN\n",
    "    access_secret = ACCESS_SECRET\n",
    "\n",
    "    api = ZaimAPI(consumer_key, consumer_secret,\n",
    "                  access_token, access_secret, 'verifier')\n",
    "    # データ一覧の取得\n",
    "    datas = api.get_data()\n",
    "\n",
    "    # カテゴリ一覧情報\n",
    "    categories = api.category_itos\n",
    "\n",
    "    # ジャンル一覧情報を取得\n",
    "    genres = api.genre_itos\n",
    "\n",
    "    # 口座一覧情報を取得\n",
    "    accounts = api.account_itos\n",
    "\n",
    "    msg = str(len(datas)) + \" 件のデータを取得しました\"\n",
    "    print(msg)\n",
    "\n",
    "    return [datas, categories, genres, accounts]"
   ]
  },
  {
   "cell_type": "code",
   "execution_count": 32,
   "id": "da924f84-ef32-45f5-99ce-23603a3f6dfc",
   "metadata": {
    "tags": []
   },
   "outputs": [
    {
     "name": "stdout",
     "output_type": "stream",
     "text": [
      "2838 件のデータを取得しました\n"
     ]
    },
    {
     "data": {
      "text/plain": [
       "2838"
      ]
     },
     "execution_count": 32,
     "metadata": {},
     "output_type": "execute_result"
    }
   ],
   "source": [
    "datas, categories, genres, accounts = getZaimData()\n",
    "len(datas)"
   ]
  },
  {
   "cell_type": "code",
   "execution_count": 33,
   "id": "32f3ae61-221d-4c36-9428-d65937cec1ca",
   "metadata": {
    "tags": []
   },
   "outputs": [],
   "source": [
    "def convertData(datas, categories, genres, accounts):\n",
    "    \"\"\"IDをもとに名称を付与する\n",
    "    \"\"\"\n",
    "\n",
    "    for data in datas:\n",
    "\n",
    "        # カテゴリ名を付与\n",
    "        categoryId = int(data[\"category_id\"])\n",
    "        data[\"category\"] = categories[categoryId] if categoryId > 0 else \"\"\n",
    "\n",
    "        # 内訳名を付与\n",
    "        genreId = int(data[\"genre_id\"])\n",
    "        data[\"genre\"] = genres[genreId] if genreId > 0 else \"\"\n",
    "\n",
    "        # 口座名を付与\n",
    "        fromAccountId = int(data[\"from_account_id\"])\n",
    "        data[\"from\"] = accounts[fromAccountId] if fromAccountId > 0 else \"-\"\n",
    "\n",
    "        toAccountId = int(data[\"to_account_id\"])\n",
    "        data[\"to\"] = accounts[toAccountId] if toAccountId > 0 else \"-\"\n",
    "\n",
    "    return datas\n",
    "import csv\n",
    "\n",
    "def outputCSV(datas):\n",
    "    \"\"\"カラム名を日本語に置換し、CSV出力する\n",
    "    \"\"\"\n",
    "\n",
    "    # 種別名を日本語に置換\n",
    "    for data in datas:\n",
    "        keys = {\n",
    "            \"date\": \"日付\",\n",
    "            \"mode\": \"方法\",\n",
    "            \"category\": \"カテゴリ\",\n",
    "            \"genre\": \"カテゴリの内訳\",\n",
    "            \"from\": \"支払元\",\n",
    "            \"to\": \"入金先\",\n",
    "            \"name\": \"品目\",\n",
    "            \"comment\": \"メモ\",\n",
    "            \"place\": \"お店\",\n",
    "            \"currency_code\": \"通貨\"\n",
    "        }\n",
    "        for k, v in keys.items():\n",
    "            data[v] = data.pop(k)\n",
    "\n",
    "        # 入出金\n",
    "        data[\"収入\"] = data.pop(\"amount\") if data[\"方法\"] == \"income\" else 0\n",
    "        data[\"支出\"] = data.pop(\"amount\") if data[\"方法\"] == \"payment\" else 0\n",
    "        data[\"振替\"] = data.pop(\"amount\") if data[\"方法\"] == \"transfer\" else 0\n",
    "\n",
    "        # 不要なキーを削除\n",
    "        unUsedKeys = [\"id\", \"user_id\", \"category_id\",\n",
    "                      \"genre_id\", \"from_account_id\", \"to_account_id\", \"active\", \"created\", \"receipt_id\", \"place_uid\", \"original_money_ids\"]\n",
    "        for key in unUsedKeys:\n",
    "            if(key in data):\n",
    "                data.pop(key)\n",
    "\n",
    "    # ヘッダーを指定\n",
    "    fieldName = list(keys.values())\n",
    "    fieldName.extend(['収入', '支出', '振替'])\n",
    "\n",
    "    # CSV出力\n",
    "    with open('zaim-backup.csv', 'w', encoding='utf-8') as csvfile:\n",
    "        writer = csv.DictWriter(csvfile, fieldnames=fieldName)\n",
    "        writer.writeheader()\n",
    "        writer.writerows(datas)"
   ]
  },
  {
   "cell_type": "code",
   "execution_count": 35,
   "id": "e4984234-e77b-43e1-85dc-53b198e0cae1",
   "metadata": {
    "tags": []
   },
   "outputs": [],
   "source": [
    "# 種別名を付与する\n",
    "datas = convertData(datas, categories, genres, accounts)\n",
    "# CSV出力\n",
    "outputCSV(datas)"
   ]
  },
  {
   "cell_type": "code",
   "execution_count": null,
   "id": "1af4420b-d1ed-4f56-92a8-e3ab0e32c482",
   "metadata": {},
   "outputs": [],
   "source": []
  }
 ],
 "metadata": {
  "kernelspec": {
   "display_name": "Python 3 (ipykernel)",
   "language": "python",
   "name": "python3"
  },
  "language_info": {
   "codemirror_mode": {
    "name": "ipython",
    "version": 3
   },
   "file_extension": ".py",
   "mimetype": "text/x-python",
   "name": "python",
   "nbconvert_exporter": "python",
   "pygments_lexer": "ipython3",
   "version": "3.9.16"
  }
 },
 "nbformat": 4,
 "nbformat_minor": 5
}
