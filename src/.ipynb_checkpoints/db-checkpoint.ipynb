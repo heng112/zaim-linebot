{
 "cells": [
  {
   "cell_type": "code",
   "execution_count": 14,
   "id": "7bf91634-f170-4e46-a8b3-2466f718b756",
   "metadata": {
    "tags": []
   },
   "outputs": [
    {
     "name": "stdout",
     "output_type": "stream",
     "text": [
      "The sql extension is already loaded. To reload it, use:\n",
      "  %reload_ext sql\n"
     ]
    }
   ],
   "source": [
    "%load_ext sql"
   ]
  },
  {
   "cell_type": "code",
   "execution_count": 15,
   "id": "c43825cc-397b-48f4-bd06-5866dcf2626d",
   "metadata": {
    "tags": []
   },
   "outputs": [],
   "source": [
    "%sql sqlite:///zaim.db"
   ]
  },
  {
   "cell_type": "code",
   "execution_count": 18,
   "id": "b56d0d78-46c8-4f04-b14b-808dadef2b46",
   "metadata": {
    "tags": []
   },
   "outputs": [
    {
     "data": {
      "text/plain": [
       "2839"
      ]
     },
     "execution_count": 18,
     "metadata": {},
     "output_type": "execute_result"
    }
   ],
   "source": [
    "import sqlite3\n",
    "import pandas as pd\n",
    "from sqlalchemy import create_engine\n",
    "\n",
    "\n",
    "# dbに保存する場合はcreate_engine('sqlite:///データベース名\n",
    "engine = create_engine('sqlite:///zaim.db',echo=False)\n",
    "df = pd.read_csv(\"../csv/zaim.csv\")\n",
    "\n",
    "df.to_sql('zaim', engine, if_exists='replace',index=False)\n",
    "\n"
   ]
  },
  {
   "cell_type": "code",
   "execution_count": null,
   "id": "0941d1a0-6a6b-4151-accc-abc095f9dc9f",
   "metadata": {
    "tags": []
   },
   "outputs": [],
   "source": [
    "%%sql\n",
    "\n",
    "select\n",
    "    *\n",
    "from\n",
    "    zaim\n",
    "WHERE\n",
    "    \"品目\" REGEXP(\"(にんにく|ニンニク)\")\n",
    "ORDER BY\n",
    "    支出 ASC;"
   ]
  },
  {
   "cell_type": "markdown",
   "id": "515c53df-bc9a-459d-b314-ac352321bff5",
   "metadata": {
    "jp-MarkdownHeadingCollapsed": true,
    "tags": []
   },
   "source": [
    "## foodテーブルの作成"
   ]
  },
  {
   "cell_type": "code",
   "execution_count": 23,
   "id": "ed504024-1f71-4be1-b235-6f19357c542b",
   "metadata": {
    "tags": []
   },
   "outputs": [
    {
     "name": "stdout",
     "output_type": "stream",
     "text": [
      " * sqlite:///zaim.db\n",
      "Done.\n"
     ]
    },
    {
     "data": {
      "text/plain": [
       "[]"
      ]
     },
     "execution_count": 23,
     "metadata": {},
     "output_type": "execute_result"
    }
   ],
   "source": [
    "%%sql\n",
    "\n",
    "CREATE TABLE food\n",
    "AS\n",
    "select\n",
    "    日付,\n",
    "    レシートID,\n",
    "    カテゴリID,\n",
    "    カテゴリ,\n",
    "    ジャンルID,\n",
    "    ジャンル,\n",
    "    商品名,\n",
    "    お店,\n",
    "    支出\n",
    "from\n",
    "    zaim\n",
    "Where\n",
    "    \"ジャンルID\" == 10101\n",
    "ORDER BY\n",
    "     日付 desc;"
   ]
  },
  {
   "cell_type": "code",
   "execution_count": null,
   "id": "75e91ec8-df0f-4e78-8297-a958f4801a7c",
   "metadata": {},
   "outputs": [],
   "source": []
  }
 ],
 "metadata": {
  "kernelspec": {
   "display_name": "Python 3 (ipykernel)",
   "language": "python",
   "name": "python3"
  },
  "language_info": {
   "codemirror_mode": {
    "name": "ipython",
    "version": 3
   },
   "file_extension": ".py",
   "mimetype": "text/x-python",
   "name": "python",
   "nbconvert_exporter": "python",
   "pygments_lexer": "ipython3",
   "version": "3.9.16"
  }
 },
 "nbformat": 4,
 "nbformat_minor": 5
}
