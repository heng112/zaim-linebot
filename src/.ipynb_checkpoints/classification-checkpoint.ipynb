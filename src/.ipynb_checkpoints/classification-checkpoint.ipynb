{
 "cells": [
  {
   "cell_type": "markdown",
   "id": "adcfca4d-1359-4436-91cc-5667a7763402",
   "metadata": {},
   "source": [
    "### 食料品のクラス分類"
   ]
  },
  {
   "cell_type": "markdown",
   "id": "c9d4bea8-3b59-47c9-becc-21683f6645c0",
   "metadata": {},
   "source": [
    "食料品をクラス分類する手順\n",
    "\n",
    "データ収集：分類するためのデータを集めます。例えば、食品メーカーの商品リストやオンラインストアの商品カテゴリーなどがあります。\n",
    "\n",
    "データの前処理：集めたデータを分析しやすい形に整形します。例えば、カテゴリ名の揺れを修正したり、欠損値を処理したりします。\n",
    "\n",
    "特徴量の選択：分類するための特徴量を選択します。例えば、商品名、商品説明文、販売元、価格、成分表などがあります。\n",
    "\n",
    "モデルの選択：分類するためのモデルを選択します。例えば、決定木、ランダムフォレスト、ニューラルネットワークなどがあります。\n",
    "\n",
    "モデルの学習：選んだモデルに対して、データを学習させます。\n",
    "\n",
    "モデルの評価：学習したモデルの性能を評価します。ホールドアウト法や交差検証法などがあります。\n",
    "\n",
    "モデルの改善：モデルの性能が十分でない場合は、特徴量の追加や削除、モデルのパラメーターの調整などを行い、モデルの性能を改善します。\n",
    "\n",
    "モデルの運用：学習したモデルを実際のデータに適用します。分類精度が低い場合は、モデルの再学習や特徴量の追加などが必要です。"
   ]
  },
  {
   "cell_type": "markdown",
   "id": "6c7dfe98-990e-4271-839c-b5a68a86451e",
   "metadata": {
    "tags": []
   },
   "source": [
    "### 前処理と特徴量"
   ]
  },
  {
   "cell_type": "code",
   "execution_count": 1,
   "id": "6081ee15-1d60-4ea2-8770-64c011ff7e53",
   "metadata": {},
   "outputs": [],
   "source": [
    "%load_ext sql\n",
    "%sql sqlite:///zaim.db"
   ]
  },
  {
   "cell_type": "markdown",
   "id": "73ebc05a-c71e-4ab1-ac4c-4e489aa3a243",
   "metadata": {
    "tags": []
   },
   "source": [
    "%%sql\n",
    "\n",
    "select * from food limit 20;"
   ]
  },
  {
   "cell_type": "markdown",
   "id": "2c2b5953-9485-4418-a865-faa50ceeaa2f",
   "metadata": {},
   "source": [
    "#### カテゴリ定義"
   ]
  },
  {
   "cell_type": "code",
   "execution_count": 16,
   "id": "8e30110e-2f9c-42cd-9070-52433d186f29",
   "metadata": {
    "tags": []
   },
   "outputs": [
    {
     "name": "stdout",
     "output_type": "stream",
     "text": [
      "Requirement already satisfied: PyPDF2<3.0 in /usr/local/lib/python3.9/site-packages (2.12.1)\n",
      "Requirement already satisfied: typing_extensions>=3.10.0.0 in /usr/local/lib/python3.9/site-packages (from PyPDF2<3.0) (4.5.0)\n",
      "\u001b[33mWARNING: Running pip as the 'root' user can result in broken permissions and conflicting behaviour with the system package manager. It is recommended to use a virtual environment instead: https://pip.pypa.io/warnings/venv\u001b[0m\u001b[33m\n",
      "\u001b[0m"
     ]
    }
   ],
   "source": [
    "!pip install 'PyPDF2<3.0'"
   ]
  },
  {
   "cell_type": "code",
   "execution_count": null,
   "id": "bf791c9f-2c5a-4c8a-8cf1-25760cb73597",
   "metadata": {
    "tags": []
   },
   "outputs": [],
   "source": [
    "from PyPDF2 import PdfFileReader\n",
    "import json\n",
    "\n",
    "# PDFファイルを開く\n",
    "pdf_file = open('../pdf/product_category.pdf', 'rb')\n",
    "\n",
    "# PDFファイルを読み込む\n",
    "pdf_reader = PdfFileReader(pdf_file)\n",
    "\n",
    "# ページの数を取得\n",
    "page_count = pdf_reader.getNumPages()\n",
    "\n",
    "# ページごとにテキストを抽出\n",
    "text_list = []\n",
    "for page_num in range(page_count):\n",
    "    page = pdf_reader.getPage(page_num)\n",
    "    text_list.append(page.extractText())\n",
    "\n",
    "# リストを結合して文字列に変換\n",
    "text = '\\n'.join(text_list)\n",
    "print(text)\n",
    "\n",
    "# ファイルを閉じる\n",
    "pdf_file.close()\n"
   ]
  },
  {
   "cell_type": "code",
   "execution_count": 28,
   "id": "fef43495-18ca-4eb9-84ed-76701220f735",
   "metadata": {
    "tags": []
   },
   "outputs": [
    {
     "name": "stdout",
     "output_type": "stream",
     "text": [
      "         大カテゴリ    サブカテゴリ1    サブカテゴリ2\n",
      "0          食料品  米・雑穀・シリアル          米\n",
      "1          食料品  米・雑穀・シリアル         玄米\n",
      "2          食料品  米・雑穀・シリアル       雑穀・麦\n",
      "3          食料品  米・雑穀・シリアル   もち米・お粥・餅\n",
      "4          食料品  米・雑穀・シリアル       米加工品\n",
      "..         ...        ...        ...\n",
      "458  水・ソフトドリンク         紅茶      ダージリン\n",
      "459  水・ソフトドリンク         紅茶      フレバリー\n",
      "460  水・ソフトドリンク         紅茶       ブレンド\n",
      "461  水・ソフトドリンク         紅茶  セット・詰め合わせ\n",
      "462  水・ソフトドリンク         紅茶        その他\n",
      "\n",
      "[463 rows x 3 columns]\n"
     ]
    }
   ],
   "source": [
    "import food_categories\n",
    "dfs = []\n",
    "for cat1, sub_cats in food_categories.cate_dict.items():\n",
    "    for sub_cat1, sub_cat2_list in sub_cats.items():\n",
    "        for sub_cat2 in sub_cat2_list:\n",
    "            dfs.append(pd.DataFrame({\n",
    "            \"大カテゴリ\": [cat1],\n",
    "            \"サブカテゴリ1\": [sub_cat1],\n",
    "            \"サブカテゴリ2\": [sub_cat2]\n",
    "            }))\n",
    "df = pd.concat(dfs, ignore_index=True)\n",
    "\n",
    "print(df)"
   ]
  },
  {
   "cell_type": "code",
   "execution_count": 35,
   "id": "3a666e84-03a6-443c-bf75-34aaad403a6d",
   "metadata": {
    "tags": []
   },
   "outputs": [],
   "source": [
    "import pandas as pd\n",
    "\n",
    "def categorize_product_name(products):\n",
    "    category_dict = {\n",
    "        '食料品': {\n",
    "            '卵・チーズ・乳製品': {\n",
    "                '鶏卵': ['サンランタマゴ', 'パラエティタマゴ', '安心タマゴ'],\n",
    "                'チーズ': ['チェダーチーズ', 'モッツァレラチーズ', 'カマンベールチーズ']\n",
    "            }\n",
    "        }\n",
    "    }\n",
    "    \n",
    "    categorized_products = []\n",
    "    for product in products:\n",
    "        category1 = product[:2]\n",
    "        category2 = ''\n",
    "        category3 = ''\n",
    "        for c1, c1_dict in category_dict.items():\n",
    "            if category1 in c1_dict.keys():\n",
    "                category2_dict = c1_dict[category1]\n",
    "                category2 = list(category2_dict.keys())[0]\n",
    "                for c3, c3_list in category2_dict[category2].items():\n",
    "                    if product in c3_list:\n",
    "                        categorized_products.append([c1, category2, c3, product])\n",
    "                        break\n",
    "                break\n",
    "        \n",
    "    return pd.DataFrame(categorized_products, columns=['大カテゴリ', '中カテゴリ', '小カテゴリ', '商品名'])"
   ]
  },
  {
   "cell_type": "code",
   "execution_count": 36,
   "id": "3ff28031-6c94-417f-af55-b16281216d3f",
   "metadata": {
    "tags": []
   },
   "outputs": [
    {
     "data": {
      "text/html": [
       "<div>\n",
       "<style scoped>\n",
       "    .dataframe tbody tr th:only-of-type {\n",
       "        vertical-align: middle;\n",
       "    }\n",
       "\n",
       "    .dataframe tbody tr th {\n",
       "        vertical-align: top;\n",
       "    }\n",
       "\n",
       "    .dataframe thead th {\n",
       "        text-align: right;\n",
       "    }\n",
       "</style>\n",
       "<table border=\"1\" class=\"dataframe\">\n",
       "  <thead>\n",
       "    <tr style=\"text-align: right;\">\n",
       "      <th></th>\n",
       "      <th>大カテゴリ</th>\n",
       "      <th>中カテゴリ</th>\n",
       "      <th>小カテゴリ</th>\n",
       "      <th>商品名</th>\n",
       "    </tr>\n",
       "  </thead>\n",
       "  <tbody>\n",
       "  </tbody>\n",
       "</table>\n",
       "</div>"
      ],
      "text/plain": [
       "Empty DataFrame\n",
       "Columns: [大カテゴリ, 中カテゴリ, 小カテゴリ, 商品名]\n",
       "Index: []"
      ]
     },
     "execution_count": 36,
     "metadata": {},
     "output_type": "execute_result"
    }
   ],
   "source": [
    "products = ['サンランタマゴ', 'パラエティタマゴ', '安心タマゴ']\n",
    "df = categorize_product_name(products)\n",
    "df"
   ]
  },
  {
   "cell_type": "code",
   "execution_count": null,
   "id": "e204dd95-92f2-4069-ad87-dbb9c4683cac",
   "metadata": {
    "tags": []
   },
   "outputs": [],
   "source": [
    "import pandas as pd\n",
    "\n",
    "def categorize_product_name(products):\n",
    "    category_dict = {\n",
    "        '食料品': {\n",
    "            '卵・チーズ・乳製品': {\n",
    "                '鶏卵': ['サンランタマゴ', 'パラエティタマゴ', '安心タマゴ'],\n",
    "                'チーズ': ['チェダーチーズ', 'モッツァレラチーズ', 'カマンベールチーズ']\n",
    "            }\n",
    "        }\n",
    "    }\n",
    "    \n",
    "    categorized_products = []\n",
    "    for product in products:\n",
    "        category1 = product[:2]\n",
    "        category2 = ''\n",
    "        category3 = ''\n",
    "        for c1, c1_dict in category_dict.items():\n",
    "            if category1 in c1_dict.keys():\n",
    "                category2_dict = c1_dict[category1]\n",
    "                category2 = list(category2_dict.keys())[0]\n",
    "                for c3, c3_list in category2_dict[category2].items():\n",
    "                    if product in c3_list:\n",
    "                        categorized_products.append([c1, category2, c3, product])\n",
    "                        break\n",
    "                else:\n",
    "                    continue\n",
    "                break\n",
    "            else:\n",
    "                continue\n",
    "        else:\n",
    "            continue\n",
    "        \n",
    "    return pd.DataFrame(categorized_products, columns=['大カテゴリ', '中カテゴリ', '小カテゴリ', '商品名'])\n",
    "\n",
    "products = ['サンランタマゴ', 'パラエティタマゴ', '安心タマゴ']\n",
    "df = categorize_product_name(products)\n",
    "print(df)\n"
   ]
  },
  {
   "cell_type": "markdown",
   "id": "df6ee63d-a71d-48a0-ba61-8ea5a0831389",
   "metadata": {},
   "source": [
    "## 商品名の形態素解析"
   ]
  },
  {
   "cell_type": "code",
   "execution_count": null,
   "id": "ec3645b9-b819-4a55-bfa3-9b393e39132c",
   "metadata": {
    "tags": []
   },
   "outputs": [],
   "source": [
    "from module import query_function"
   ]
  },
  {
   "cell_type": "code",
   "execution_count": null,
   "id": "ef1ec116-3291-4063-9441-838451de38fb",
   "metadata": {},
   "outputs": [],
   "source": []
  }
 ],
 "metadata": {
  "kernelspec": {
   "display_name": "Python 3 (ipykernel)",
   "language": "python",
   "name": "python3"
  },
  "language_info": {
   "codemirror_mode": {
    "name": "ipython",
    "version": 3
   },
   "file_extension": ".py",
   "mimetype": "text/x-python",
   "name": "python",
   "nbconvert_exporter": "python",
   "pygments_lexer": "ipython3",
   "version": "3.9.16"
  }
 },
 "nbformat": 4,
 "nbformat_minor": 5
}
