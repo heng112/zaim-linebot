{
 "cells": [
  {
   "cell_type": "code",
   "execution_count": null,
   "id": "8f483ac8-4e64-4b08-9051-2c54c598f63c",
   "metadata": {
    "tags": []
   },
   "outputs": [],
   "source": [
    "%pip install pandas"
   ]
  },
  {
   "cell_type": "code",
   "execution_count": null,
   "id": "7bf91634-f170-4e46-a8b3-2466f718b756",
   "metadata": {
    "tags": []
   },
   "outputs": [],
   "source": [
    "%load_ext sql"
   ]
  },
  {
   "cell_type": "code",
   "execution_count": null,
   "id": "c43825cc-397b-48f4-bd06-5866dcf2626d",
   "metadata": {
    "tags": []
   },
   "outputs": [],
   "source": [
    "%sql sqlite:///zaim.db"
   ]
  },
  {
   "cell_type": "code",
   "execution_count": null,
   "id": "b56d0d78-46c8-4f04-b14b-808dadef2b46",
   "metadata": {
    "tags": []
   },
   "outputs": [],
   "source": [
    "import sqlite3\n",
    "import pandas as pd\n",
    "from sqlalchemy import create_engine\n",
    "\n",
    "\n",
    "# dbに保存する場合はcreate_engine('sqlite:///データベース名\n",
    "engine = create_engine('sqlite:///zaim.db',echo=False)\n",
    "df = pd.read_csv(\"zaim-backup.csv\")\n",
    "\n",
    "df.to_sql('zaim', engine, if_exists='replace',index=False)\n",
    "\n"
   ]
  },
  {
   "cell_type": "code",
   "execution_count": null,
   "id": "ed504024-1f71-4be1-b235-6f19357c542b",
   "metadata": {
    "tags": []
   },
   "outputs": [],
   "source": [
    "%%sql\n",
    "\n",
    "select * from zaim;"
   ]
  }
 ],
 "metadata": {
  "kernelspec": {
   "display_name": "Python 3 (ipykernel)",
   "language": "python",
   "name": "python3"
  },
  "language_info": {
   "codemirror_mode": {
    "name": "ipython",
    "version": 3
   },
   "file_extension": ".py",
   "mimetype": "text/x-python",
   "name": "python",
   "nbconvert_exporter": "python",
   "pygments_lexer": "ipython3",
   "version": "3.9.16"
  }
 },
 "nbformat": 4,
 "nbformat_minor": 5
}
