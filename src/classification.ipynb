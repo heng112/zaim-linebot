{
 "cells": [
  {
   "cell_type": "markdown",
   "id": "adcfca4d-1359-4436-91cc-5667a7763402",
   "metadata": {},
   "source": [
    "### 食料品のクラス分類"
   ]
  },
  {
   "cell_type": "markdown",
   "id": "c9d4bea8-3b59-47c9-becc-21683f6645c0",
   "metadata": {},
   "source": [
    "食料品をクラス分類する手順\n",
    "\n",
    "データ収集：分類するためのデータを集めます。例えば、食品メーカーの商品リストやオンラインストアの商品カテゴリーなどがあります。\n",
    "\n",
    "データの前処理：集めたデータを分析しやすい形に整形します。例えば、カテゴリ名の揺れを修正したり、欠損値を処理したりします。\n",
    "\n",
    "特徴量の選択：分類するための特徴量を選択します。例えば、商品名、商品説明文、販売元、価格、成分表などがあります。\n",
    "\n",
    "モデルの選択：分類するためのモデルを選択します。例えば、決定木、ランダムフォレスト、ニューラルネットワークなどがあります。\n",
    "\n",
    "モデルの学習：選んだモデルに対して、データを学習させます。\n",
    "\n",
    "モデルの評価：学習したモデルの性能を評価します。ホールドアウト法や交差検証法などがあります。\n",
    "\n",
    "モデルの改善：モデルの性能が十分でない場合は、特徴量の追加や削除、モデルのパラメーターの調整などを行い、モデルの性能を改善します。\n",
    "\n",
    "モデルの運用：学習したモデルを実際のデータに適用します。分類精度が低い場合は、モデルの再学習や特徴量の追加などが必要です。"
   ]
  },
  {
   "cell_type": "markdown",
   "id": "6c7dfe98-990e-4271-839c-b5a68a86451e",
   "metadata": {
    "tags": []
   },
   "source": [
    "### 前処理と特徴量"
   ]
  },
  {
   "cell_type": "code",
   "execution_count": 1,
   "id": "6081ee15-1d60-4ea2-8770-64c011ff7e53",
   "metadata": {},
   "outputs": [],
   "source": [
    "%load_ext sql\n",
    "%sql sqlite:///zaim.db"
   ]
  },
  {
   "cell_type": "code",
   "execution_count": 6,
   "id": "6d6f68dd-b701-448c-9c44-2f7804aadfbb",
   "metadata": {
    "tags": []
   },
   "outputs": [
    {
     "name": "stdout",
     "output_type": "stream",
     "text": [
      " * sqlite:///zaim.db\n",
      "Done.\n"
     ]
    },
    {
     "data": {
      "text/html": [
       "<table>\n",
       "    <thead>\n",
       "        <tr>\n",
       "            <th>日付</th>\n",
       "            <th>レシートID</th>\n",
       "            <th>カテゴリID</th>\n",
       "            <th>カテゴリ</th>\n",
       "            <th>ジャンルID</th>\n",
       "            <th>ジャンル</th>\n",
       "            <th>商品名</th>\n",
       "            <th>お店</th>\n",
       "            <th>支出</th>\n",
       "        </tr>\n",
       "    </thead>\n",
       "    <tbody>\n",
       "        <tr>\n",
       "            <td>2023-03-22</td>\n",
       "            <td>1679622101</td>\n",
       "            <td>101</td>\n",
       "            <td>食費</td>\n",
       "            <td>10101</td>\n",
       "            <td>食料品</td>\n",
       "            <td>釧圏BI</td>\n",
       "            <td>業務スーパー　リカーキング府中本宿店</td>\n",
       "            <td>11</td>\n",
       "        </tr>\n",
       "        <tr>\n",
       "            <td>2023-03-22</td>\n",
       "            <td>1679622101</td>\n",
       "            <td>101</td>\n",
       "            <td>食費</td>\n",
       "            <td>10101</td>\n",
       "            <td>食料品</td>\n",
       "            <td>小II</td>\n",
       "            <td>業務スーパー　リカーキング府中本宿店</td>\n",
       "            <td>42</td>\n",
       "        </tr>\n",
       "        <tr>\n",
       "            <td>2023-03-22</td>\n",
       "            <td>1679622101</td>\n",
       "            <td>101</td>\n",
       "            <td>食費</td>\n",
       "            <td>10101</td>\n",
       "            <td>食料品</td>\n",
       "            <td>タ884M1棄鎮きそぱ</td>\n",
       "            <td>業務スーパー　リカーキング府中本宿店</td>\n",
       "            <td>23</td>\n",
       "        </tr>\n",
       "        <tr>\n",
       "            <td>2023-03-22</td>\n",
       "            <td>1679622101</td>\n",
       "            <td>101</td>\n",
       "            <td>食費</td>\n",
       "            <td>10101</td>\n",
       "            <td>食料品</td>\n",
       "            <td>タ8hNハチ荒挽こしょう</td>\n",
       "            <td>業務スーパー　リカーキング府中本宿店</td>\n",
       "            <td>78</td>\n",
       "        </tr>\n",
       "        <tr>\n",
       "            <td>2023-03-22</td>\n",
       "            <td>1679622069</td>\n",
       "            <td>101</td>\n",
       "            <td>食費</td>\n",
       "            <td>10101</td>\n",
       "            <td>食料品</td>\n",
       "            <td>不明</td>\n",
       "            <td>ロピア</td>\n",
       "            <td>57</td>\n",
       "        </tr>\n",
       "    </tbody>\n",
       "</table>"
      ],
      "text/plain": [
       "[('2023-03-22', 1679622101, 101, '食費', 10101, '食料品', '釧圏BI', '業務スーパー\\u3000リカーキング府中本宿店', 11),\n",
       " ('2023-03-22', 1679622101, 101, '食費', 10101, '食料品', '小II', '業務スーパー\\u3000リカーキング府中本宿店', 42),\n",
       " ('2023-03-22', 1679622101, 101, '食費', 10101, '食料品', 'タ884M1棄鎮きそぱ', '業務スーパー\\u3000リカーキング府中本宿店', 23),\n",
       " ('2023-03-22', 1679622101, 101, '食費', 10101, '食料品', 'タ8hNハチ荒挽こしょう', '業務スーパー\\u3000リカーキング府中本宿店', 78),\n",
       " ('2023-03-22', 1679622069, 101, '食費', 10101, '食料品', '不明', 'ロピア', 57)]"
      ]
     },
     "execution_count": 6,
     "metadata": {},
     "output_type": "execute_result"
    }
   ],
   "source": [
    "%%sql\n",
    "\n",
    "select * from food limit 5;"
   ]
  },
  {
   "cell_type": "markdown",
   "id": "2c2b5953-9485-4418-a865-faa50ceeaa2f",
   "metadata": {},
   "source": [
    "#### カテゴリ定義"
   ]
  },
  {
   "cell_type": "code",
   "execution_count": 16,
   "id": "8e30110e-2f9c-42cd-9070-52433d186f29",
   "metadata": {
    "tags": []
   },
   "outputs": [
    {
     "name": "stdout",
     "output_type": "stream",
     "text": [
      "Requirement already satisfied: PyPDF2<3.0 in /usr/local/lib/python3.9/site-packages (2.12.1)\n",
      "Requirement already satisfied: typing_extensions>=3.10.0.0 in /usr/local/lib/python3.9/site-packages (from PyPDF2<3.0) (4.5.0)\n",
      "\u001b[33mWARNING: Running pip as the 'root' user can result in broken permissions and conflicting behaviour with the system package manager. It is recommended to use a virtual environment instead: https://pip.pypa.io/warnings/venv\u001b[0m\u001b[33m\n",
      "\u001b[0m"
     ]
    }
   ],
   "source": [
    "!pip install 'PyPDF2<3.0'"
   ]
  },
  {
   "cell_type": "code",
   "execution_count": null,
   "id": "bf791c9f-2c5a-4c8a-8cf1-25760cb73597",
   "metadata": {
    "tags": []
   },
   "outputs": [],
   "source": [
    "from PyPDF2 import PdfFileReader\n",
    "import json\n",
    "\n",
    "# PDFファイルを開く\n",
    "pdf_file = open('../pdf/product_category.pdf', 'rb')\n",
    "\n",
    "# PDFファイルを読み込む\n",
    "pdf_reader = PdfFileReader(pdf_file)\n",
    "\n",
    "# ページの数を取得\n",
    "page_count = pdf_reader.getNumPages()\n",
    "\n",
    "# ページごとにテキストを抽出\n",
    "text_list = []\n",
    "for page_num in range(page_count):\n",
    "    page = pdf_reader.getPage(page_num)\n",
    "    text_list.append(page.extractText())\n",
    "\n",
    "# リストを結合して文字列に変換\n",
    "text = '\\n'.join(text_list)\n",
    "print(text)\n",
    "\n",
    "# ファイルを閉じる\n",
    "pdf_file.close()\n"
   ]
  },
  {
   "cell_type": "code",
   "execution_count": 28,
   "id": "fef43495-18ca-4eb9-84ed-76701220f735",
   "metadata": {
    "tags": []
   },
   "outputs": [
    {
     "name": "stdout",
     "output_type": "stream",
     "text": [
      "         大カテゴリ    サブカテゴリ1    サブカテゴリ2\n",
      "0          食料品  米・雑穀・シリアル          米\n",
      "1          食料品  米・雑穀・シリアル         玄米\n",
      "2          食料品  米・雑穀・シリアル       雑穀・麦\n",
      "3          食料品  米・雑穀・シリアル   もち米・お粥・餅\n",
      "4          食料品  米・雑穀・シリアル       米加工品\n",
      "..         ...        ...        ...\n",
      "458  水・ソフトドリンク         紅茶      ダージリン\n",
      "459  水・ソフトドリンク         紅茶      フレバリー\n",
      "460  水・ソフトドリンク         紅茶       ブレンド\n",
      "461  水・ソフトドリンク         紅茶  セット・詰め合わせ\n",
      "462  水・ソフトドリンク         紅茶        その他\n",
      "\n",
      "[463 rows x 3 columns]\n"
     ]
    }
   ],
   "source": [
    "import food_categories\n",
    "dfs = []\n",
    "for cat1, sub_cats in food_categories.cate_dict.items():\n",
    "    for sub_cat1, sub_cat2_list in sub_cats.items():\n",
    "        for sub_cat2 in sub_cat2_list:\n",
    "            dfs.append(pd.DataFrame({\n",
    "            \"大カテゴリ\": [cat1],\n",
    "            \"サブカテゴリ1\": [sub_cat1],\n",
    "            \"サブカテゴリ2\": [sub_cat2]\n",
    "            }))\n",
    "df = pd.concat(dfs, ignore_index=True)\n",
    "\n",
    "print(df)"
   ]
  },
  {
   "cell_type": "code",
   "execution_count": null,
   "id": "3a666e84-03a6-443c-bf75-34aaad403a6d",
   "metadata": {},
   "outputs": [],
   "source": []
  },
  {
   "cell_type": "code",
   "execution_count": null,
   "id": "3ff28031-6c94-417f-af55-b16281216d3f",
   "metadata": {},
   "outputs": [],
   "source": []
  }
 ],
 "metadata": {
  "kernelspec": {
   "display_name": "Python 3 (ipykernel)",
   "language": "python",
   "name": "python3"
  },
  "language_info": {
   "codemirror_mode": {
    "name": "ipython",
    "version": 3
   },
   "file_extension": ".py",
   "mimetype": "text/x-python",
   "name": "python",
   "nbconvert_exporter": "python",
   "pygments_lexer": "ipython3",
   "version": "3.9.16"
  }
 },
 "nbformat": 4,
 "nbformat_minor": 5
}
